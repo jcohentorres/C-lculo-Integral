{
  "nbformat": 4,
  "nbformat_minor": 0,
  "metadata": {
    "colab": {
      "provenance": []
    },
    "kernelspec": {
      "name": "python3",
      "display_name": "Python 3"
    },
    "language_info": {
      "name": "python"
    }
  },
  "cells": [
    {
      "cell_type": "code",
      "execution_count": 3,
      "metadata": {
        "colab": {
          "base_uri": "https://localhost:8080/"
        },
        "id": "9wuWjqDnWTXv",
        "outputId": "afbbd47f-577c-4dc3-894a-c525c8567941"
      },
      "outputs": [
        {
          "output_type": "stream",
          "name": "stdout",
          "text": [
            "La integral definida de x**2+5 desde 0 hasta 3 es: 24\n"
          ]
        }
      ],
      "source": [
        "import sympy as sp\n",
        "\n",
        "def calcular_integral_definida(funcion, variable, limite_inferior, limite_superior):\n",
        "    # Definir la variable simbólica\n",
        "    x = sp.Symbol(variable)\n",
        "    # Convertir la función en una expresión simbólica\n",
        "    expr = sp.sympify(funcion)\n",
        "    # Calcular la integral definida\n",
        "    integral_definida = sp.integrate(expr, (x, limite_inferior, limite_superior))\n",
        "    return integral_definida\n",
        "\n",
        "# Ejemplo de uso\n",
        "funcion = \"x**2+5\"\n",
        "variable = \"x\"\n",
        "limite_inferior = 0\n",
        "limite_superior = 3\n",
        "\n",
        "resultado = calcular_integral_definida(funcion, variable, limite_inferior, limite_superior)\n",
        "print(f\"La integral definida de {funcion} desde {limite_inferior} hasta {limite_superior} es: {resultado}\")\n"
      ]
    }
  ]
}